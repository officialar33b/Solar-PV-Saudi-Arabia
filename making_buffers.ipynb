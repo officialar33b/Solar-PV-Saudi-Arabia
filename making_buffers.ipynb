{
 "cells": [
  {
   "cell_type": "code",
   "execution_count": 1,
   "metadata": {},
   "outputs": [],
   "source": [
    "import arcpy\n",
    "import os \n",
    "from arcpy import MultipleRingBuffer_analysis, PolygonToRaster_conversion, Clip_analysis\n"
   ]
  },
  {
   "cell_type": "code",
   "execution_count": 3,
   "metadata": {},
   "outputs": [
    {
     "name": "stdout",
     "output_type": "stream",
     "text": [
      "Roads shapefile exists!\n",
      "Grid shapefile exists!\n",
      "Saudi Bounds shapefile exists!\n"
     ]
    }
   ],
   "source": [
    "\n",
    "arcpy.env.workspace = r\"C:/Users/areeb\\Documents/GIST 498\\Saudi Elevation\\Saudi Solar/Python Outputs.gdb\"\n",
    "arcpy.env.overwriteOutput = True\n",
    "\n",
    "roads_path = r\"C:/Users/areeb\\Documents/GIST 498/Saudi Elevation/Data/Roads/hotosm_sau_roads_lines_shp.shp\"\n",
    "grid_path = r\"C:/Users/areeb\\Documents/GIST 498\\Saudi Elevation\\Data\\SaudiGridLines.shp\"\n",
    "saudi_bounds_path = r\"C:/Users/areeb\\Documents/GIST 498\\Saudi Elevation\\Data\\saudi_shp.shp\"\n",
    "\n",
    "if os.path.exists(roads_path):print(\"Roads shapefile exists!\")\n",
    "else: print(\"Roads shapefile doesn't exist!\")\n",
    "if os.path.exists(grid_path):print(\"Grid shapefile exists!\")\n",
    "else: print(\"Grid shapefile doesn't exist!\")\n",
    "if os.path.exists(saudi_bounds_path):print(\"Saudi Bounds shapefile exists!\")\n",
    "else: print(\"Saudi Bounds shapefile doesn't exist!\")"
   ]
  },
  {
   "cell_type": "markdown",
   "metadata": {},
   "source": [
    "## Create the distance for Roads shapefiles."
   ]
  },
  {
   "cell_type": "markdown",
   "metadata": {},
   "source": [
    "Create a buffer for distance from roads."
   ]
  },
  {
   "cell_type": "code",
   "execution_count": 4,
   "metadata": {},
   "outputs": [],
   "source": [
    "roads_buffer_polygon = MultipleRingBuffer_analysis(\n",
    "    roads_path, \"initial_roads_buffer\",\n",
    "    Distances=[10, 25, 50, 100, 200], \n",
    "    Buffer_Unit=\"Kilometers\", \n",
    "    Field_Name=\"distance from roads\", \n",
    "    Dissolve_Option=\"NONE\", \n",
    "    Outside_Polygons_Only=\"FULL\", \n",
    "    Method=\"GEODESIC\")"
   ]
  },
  {
   "cell_type": "markdown",
   "metadata": {},
   "source": [
    "Clip the new buffer with the Saudi Shapefile."
   ]
  },
  {
   "cell_type": "code",
   "execution_count": null,
   "metadata": {},
   "outputs": [],
   "source": [
    "clipped_roads_buffer = Clip_analysis(\n",
    "    roads_buffer_polygon,\n",
    "    clip_features=saudi_bounds_path, \n",
    "    out_feature_class=\"clipped_roads_buffer\")"
   ]
  },
  {
   "cell_type": "markdown",
   "metadata": {},
   "source": [
    "Convert the Polygon Feature Class into a Raster."
   ]
  },
  {
   "cell_type": "code",
   "execution_count": null,
   "metadata": {},
   "outputs": [],
   "source": [
    "PolygonToRaster_conversion(\n",
    "    in_features= clipped_roads_buffer,\n",
    "    out_rasterdataset=\"dist_from_roads_raster\",\n",
    "    value_field=\"OBJECT_ID1\",\n",
    "    cell_assignment=\"CELL_CENTER\",\n",
    "    priority_field=\"NONE\",\n",
    "    cellsize=r\"C:\\Users\\areeb\\Documents\\GIST 498\\Saudi Elevation\\Saudi Solar\\Saudi Solar.gdb\\PVOUTExtent\",\n",
    "    build_rat=\"BUILD\"\n",
    "    )"
   ]
  }
 ],
 "metadata": {
  "kernelspec": {
   "display_name": "Python 3",
   "language": "python",
   "name": "python3"
  },
  "language_info": {
   "codemirror_mode": {
    "name": "ipython",
    "version": 3
   },
   "file_extension": ".py",
   "mimetype": "text/x-python",
   "name": "python",
   "nbconvert_exporter": "python",
   "pygments_lexer": "ipython3",
   "version": "3.11.8"
  }
 },
 "nbformat": 4,
 "nbformat_minor": 2
}
